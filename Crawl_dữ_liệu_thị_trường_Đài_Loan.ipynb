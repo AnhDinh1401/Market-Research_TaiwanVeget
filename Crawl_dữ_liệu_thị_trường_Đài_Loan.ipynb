{
  "cells": [
    {
      "cell_type": "code",
      "execution_count": null,
      "metadata": {
        "colab": {
          "base_uri": "https://localhost:8080/"
        },
        "id": "Jx0Mu6l2TJH0",
        "outputId": "54fc5221-8e3f-4c66-f609-573cb21ff04a"
      },
      "outputs": [
        {
          "name": "stdout",
          "output_type": "stream",
          "text": [
            "Collecting selenium\n",
            "  Downloading selenium-4.27.1-py3-none-any.whl.metadata (7.1 kB)\n",
            "Requirement already satisfied: urllib3<3,>=1.26 in /usr/local/lib/python3.10/dist-packages (from urllib3[socks]<3,>=1.26->selenium) (2.2.3)\n",
            "Collecting trio~=0.17 (from selenium)\n",
            "  Downloading trio-0.28.0-py3-none-any.whl.metadata (8.5 kB)\n",
            "Collecting trio-websocket~=0.9 (from selenium)\n",
            "  Downloading trio_websocket-0.11.1-py3-none-any.whl.metadata (4.7 kB)\n",
            "Requirement already satisfied: certifi>=2021.10.8 in /usr/local/lib/python3.10/dist-packages (from selenium) (2024.12.14)\n",
            "Requirement already satisfied: typing_extensions~=4.9 in /usr/local/lib/python3.10/dist-packages (from selenium) (4.12.2)\n",
            "Requirement already satisfied: websocket-client~=1.8 in /usr/local/lib/python3.10/dist-packages (from selenium) (1.8.0)\n",
            "Requirement already satisfied: attrs>=23.2.0 in /usr/local/lib/python3.10/dist-packages (from trio~=0.17->selenium) (24.3.0)\n",
            "Collecting sortedcontainers (from trio~=0.17->selenium)\n",
            "  Downloading sortedcontainers-2.4.0-py2.py3-none-any.whl.metadata (10 kB)\n",
            "Requirement already satisfied: idna in /usr/local/lib/python3.10/dist-packages (from trio~=0.17->selenium) (3.10)\n",
            "Collecting outcome (from trio~=0.17->selenium)\n",
            "  Downloading outcome-1.3.0.post0-py2.py3-none-any.whl.metadata (2.6 kB)\n",
            "Requirement already satisfied: sniffio>=1.3.0 in /usr/local/lib/python3.10/dist-packages (from trio~=0.17->selenium) (1.3.1)\n",
            "Requirement already satisfied: exceptiongroup in /usr/local/lib/python3.10/dist-packages (from trio~=0.17->selenium) (1.2.2)\n",
            "Collecting wsproto>=0.14 (from trio-websocket~=0.9->selenium)\n",
            "  Downloading wsproto-1.2.0-py3-none-any.whl.metadata (5.6 kB)\n",
            "Requirement already satisfied: pysocks!=1.5.7,<2.0,>=1.5.6 in /usr/local/lib/python3.10/dist-packages (from urllib3[socks]<3,>=1.26->selenium) (1.7.1)\n",
            "Requirement already satisfied: h11<1,>=0.9.0 in /usr/local/lib/python3.10/dist-packages (from wsproto>=0.14->trio-websocket~=0.9->selenium) (0.14.0)\n",
            "Downloading selenium-4.27.1-py3-none-any.whl (9.7 MB)\n",
            "\u001b[2K   \u001b[90m━━━━━━━━━━━━━━━━━━━━━━━━━━━━━━━━━━━━━━━━\u001b[0m \u001b[32m9.7/9.7 MB\u001b[0m \u001b[31m49.3 MB/s\u001b[0m eta \u001b[36m0:00:00\u001b[0m\n",
            "\u001b[?25hDownloading trio-0.28.0-py3-none-any.whl (486 kB)\n",
            "\u001b[2K   \u001b[90m━━━━━━━━━━━━━━━━━━━━━━━━━━━━━━━━━━━━━━━━\u001b[0m \u001b[32m486.3/486.3 kB\u001b[0m \u001b[31m31.5 MB/s\u001b[0m eta \u001b[36m0:00:00\u001b[0m\n",
            "\u001b[?25hDownloading trio_websocket-0.11.1-py3-none-any.whl (17 kB)\n",
            "Downloading wsproto-1.2.0-py3-none-any.whl (24 kB)\n",
            "Downloading outcome-1.3.0.post0-py2.py3-none-any.whl (10 kB)\n",
            "Downloading sortedcontainers-2.4.0-py2.py3-none-any.whl (29 kB)\n",
            "Installing collected packages: sortedcontainers, wsproto, outcome, trio, trio-websocket, selenium\n",
            "Successfully installed outcome-1.3.0.post0 selenium-4.27.1 sortedcontainers-2.4.0 trio-0.28.0 trio-websocket-0.11.1 wsproto-1.2.0\n"
          ]
        }
      ],
      "source": [
        "!pip install selenium"
      ]
    },
    {
      "cell_type": "code",
      "execution_count": null,
      "metadata": {
        "colab": {
          "base_uri": "https://localhost:8080/"
        },
        "id": "slFaIEJfTM-p",
        "outputId": "cbbb4c86-a5e2-489a-f5d6-c0fda5d10ed0"
      },
      "outputs": [
        {
          "name": "stdout",
          "output_type": "stream",
          "text": [
            "Get:1 https://cloud.r-project.org/bin/linux/ubuntu jammy-cran40/ InRelease [3,626 B]\n",
            "Hit:2 https://developer.download.nvidia.com/compute/cuda/repos/ubuntu2204/x86_64  InRelease\n",
            "Get:3 http://security.ubuntu.com/ubuntu jammy-security InRelease [129 kB]\n",
            "Hit:4 http://archive.ubuntu.com/ubuntu jammy InRelease\n",
            "Get:5 http://archive.ubuntu.com/ubuntu jammy-updates InRelease [128 kB]\n",
            "Get:6 https://r2u.stat.illinois.edu/ubuntu jammy InRelease [6,555 B]\n",
            "Get:7 http://archive.ubuntu.com/ubuntu jammy-backports InRelease [127 kB]\n",
            "Hit:8 https://ppa.launchpadcontent.net/deadsnakes/ppa/ubuntu jammy InRelease\n",
            "Hit:9 https://ppa.launchpadcontent.net/graphics-drivers/ppa/ubuntu jammy InRelease\n",
            "Hit:10 https://ppa.launchpadcontent.net/ubuntugis/ppa/ubuntu jammy InRelease\n",
            "Get:11 https://r2u.stat.illinois.edu/ubuntu jammy/main all Packages [8,563 kB]\n",
            "Get:12 http://security.ubuntu.com/ubuntu jammy-security/main amd64 Packages [2,517 kB]\n",
            "Get:13 http://archive.ubuntu.com/ubuntu jammy-updates/main amd64 Packages [2,840 kB]\n",
            "Get:14 http://security.ubuntu.com/ubuntu jammy-security/restricted amd64 Packages [3,448 kB]\n",
            "Get:15 http://security.ubuntu.com/ubuntu jammy-security/universe amd64 Packages [1,226 kB]\n",
            "Get:16 http://archive.ubuntu.com/ubuntu jammy-updates/restricted amd64 Packages [3,633 kB]\n",
            "Get:17 https://r2u.stat.illinois.edu/ubuntu jammy/main amd64 Packages [2,631 kB]\n",
            "Get:18 http://archive.ubuntu.com/ubuntu jammy-updates/universe amd64 Packages [1,517 kB]\n",
            "Get:19 http://archive.ubuntu.com/ubuntu jammy-backports/universe amd64 Packages [33.8 kB]\n",
            "Get:20 http://archive.ubuntu.com/ubuntu jammy-backports/main amd64 Packages [81.4 kB]\n",
            "Fetched 26.9 MB in 7s (3,632 kB/s)\n",
            "Reading package lists... Done\n",
            "W: Skipping acquire of configured file 'main/source/Sources' as repository 'https://r2u.stat.illinois.edu/ubuntu jammy InRelease' does not seem to provide it (sources.list entry misspelt?)\n"
          ]
        }
      ],
      "source": [
        "!apt-get update"
      ]
    },
    {
      "cell_type": "code",
      "execution_count": null,
      "metadata": {
        "colab": {
          "base_uri": "https://localhost:8080/"
        },
        "id": "KO8XoqXyTNxL",
        "outputId": "7dc57f4d-6bc6-4b2d-bc5c-486932d2bc3f"
      },
      "outputs": [
        {
          "name": "stdout",
          "output_type": "stream",
          "text": [
            "Reading package lists... Done\n",
            "Building dependency tree... Done\n",
            "Reading state information... Done\n",
            "The following additional packages will be installed:\n",
            "  apparmor libfuse3-3 liblzo2-2 libudev1 snapd squashfs-tools systemd-hwe-hwdb udev\n",
            "Suggested packages:\n",
            "  apparmor-profiles-extra apparmor-utils fuse3 zenity | kdialog\n",
            "The following NEW packages will be installed:\n",
            "  apparmor chromium-browser libfuse3-3 liblzo2-2 snapd squashfs-tools systemd-hwe-hwdb udev\n",
            "The following packages will be upgraded:\n",
            "  libudev1\n",
            "1 upgraded, 8 newly installed, 0 to remove and 49 not upgraded.\n",
            "Need to get 30.2 MB of archives.\n",
            "After this operation, 123 MB of additional disk space will be used.\n",
            "Get:1 http://archive.ubuntu.com/ubuntu jammy-updates/main amd64 apparmor amd64 3.0.4-2ubuntu2.4 [598 kB]\n",
            "Get:2 http://archive.ubuntu.com/ubuntu jammy/main amd64 liblzo2-2 amd64 2.10-2build3 [53.7 kB]\n",
            "Get:3 http://archive.ubuntu.com/ubuntu jammy/main amd64 squashfs-tools amd64 1:4.5-3build1 [159 kB]\n",
            "Get:4 http://archive.ubuntu.com/ubuntu jammy-updates/main amd64 libudev1 amd64 249.11-0ubuntu3.12 [78.2 kB]\n",
            "Get:5 http://archive.ubuntu.com/ubuntu jammy-updates/main amd64 udev amd64 249.11-0ubuntu3.12 [1,557 kB]\n",
            "Get:6 http://archive.ubuntu.com/ubuntu jammy/main amd64 libfuse3-3 amd64 3.10.5-1build1 [81.2 kB]\n",
            "Get:7 http://archive.ubuntu.com/ubuntu jammy-updates/main amd64 snapd amd64 2.66.1+22.04 [27.6 MB]\n",
            "Get:8 http://archive.ubuntu.com/ubuntu jammy-updates/universe amd64 chromium-browser amd64 1:85.0.4183.83-0ubuntu2.22.04.1 [49.2 kB]\n",
            "Get:9 http://archive.ubuntu.com/ubuntu jammy-updates/main amd64 systemd-hwe-hwdb all 249.11.5 [3,228 B]\n",
            "Fetched 30.2 MB in 2s (18.4 MB/s)\n",
            "Preconfiguring packages ...\n",
            "Selecting previously unselected package apparmor.\n",
            "(Reading database ... 123634 files and directories currently installed.)\n",
            "Preparing to unpack .../apparmor_3.0.4-2ubuntu2.4_amd64.deb ...\n",
            "Unpacking apparmor (3.0.4-2ubuntu2.4) ...\n",
            "Selecting previously unselected package liblzo2-2:amd64.\n",
            "Preparing to unpack .../liblzo2-2_2.10-2build3_amd64.deb ...\n",
            "Unpacking liblzo2-2:amd64 (2.10-2build3) ...\n",
            "Selecting previously unselected package squashfs-tools.\n",
            "Preparing to unpack .../squashfs-tools_1%3a4.5-3build1_amd64.deb ...\n",
            "Unpacking squashfs-tools (1:4.5-3build1) ...\n",
            "Preparing to unpack .../libudev1_249.11-0ubuntu3.12_amd64.deb ...\n",
            "Unpacking libudev1:amd64 (249.11-0ubuntu3.12) over (249.11-0ubuntu3.10) ...\n",
            "Setting up libudev1:amd64 (249.11-0ubuntu3.12) ...\n",
            "Selecting previously unselected package udev.\n",
            "(Reading database ... 123842 files and directories currently installed.)\n",
            "Preparing to unpack .../udev_249.11-0ubuntu3.12_amd64.deb ...\n",
            "Unpacking udev (249.11-0ubuntu3.12) ...\n",
            "Selecting previously unselected package libfuse3-3:amd64.\n",
            "Preparing to unpack .../libfuse3-3_3.10.5-1build1_amd64.deb ...\n",
            "Unpacking libfuse3-3:amd64 (3.10.5-1build1) ...\n",
            "Selecting previously unselected package snapd.\n",
            "Preparing to unpack .../snapd_2.66.1+22.04_amd64.deb ...\n",
            "Unpacking snapd (2.66.1+22.04) ...\n",
            "Setting up apparmor (3.0.4-2ubuntu2.4) ...\n",
            "Created symlink /etc/systemd/system/sysinit.target.wants/apparmor.service → /lib/systemd/system/apparmor.service.\n",
            "Setting up liblzo2-2:amd64 (2.10-2build3) ...\n",
            "Setting up squashfs-tools (1:4.5-3build1) ...\n",
            "Setting up udev (249.11-0ubuntu3.12) ...\n",
            "invoke-rc.d: could not determine current runlevel\n",
            "invoke-rc.d: policy-rc.d denied execution of start.\n",
            "Setting up libfuse3-3:amd64 (3.10.5-1build1) ...\n",
            "Setting up snapd (2.66.1+22.04) ...\n",
            "Created symlink /etc/systemd/system/multi-user.target.wants/snapd.apparmor.service → /lib/systemd/system/snapd.apparmor.service.\n",
            "Created symlink /etc/systemd/system/multi-user.target.wants/snapd.autoimport.service → /lib/systemd/system/snapd.autoimport.service.\n",
            "Created symlink /etc/systemd/system/multi-user.target.wants/snapd.core-fixup.service → /lib/systemd/system/snapd.core-fixup.service.\n",
            "Created symlink /etc/systemd/system/multi-user.target.wants/snapd.recovery-chooser-trigger.service → /lib/systemd/system/snapd.recovery-chooser-trigger.service.\n",
            "Created symlink /etc/systemd/system/multi-user.target.wants/snapd.seeded.service → /lib/systemd/system/snapd.seeded.service.\n",
            "Created symlink /etc/systemd/system/cloud-final.service.wants/snapd.seeded.service → /lib/systemd/system/snapd.seeded.service.\n",
            "Unit /lib/systemd/system/snapd.seeded.service is added as a dependency to a non-existent unit cloud-final.service.\n",
            "Created symlink /etc/systemd/system/multi-user.target.wants/snapd.service → /lib/systemd/system/snapd.service.\n",
            "Created symlink /etc/systemd/system/timers.target.wants/snapd.snap-repair.timer → /lib/systemd/system/snapd.snap-repair.timer.\n",
            "Created symlink /etc/systemd/system/sockets.target.wants/snapd.socket → /lib/systemd/system/snapd.socket.\n",
            "Created symlink /etc/systemd/system/final.target.wants/snapd.system-shutdown.service → /lib/systemd/system/snapd.system-shutdown.service.\n",
            "Selecting previously unselected package chromium-browser.\n",
            "(Reading database ... 124071 files and directories currently installed.)\n",
            "Preparing to unpack .../chromium-browser_1%3a85.0.4183.83-0ubuntu2.22.04.1_amd64.deb ...\n",
            "=> Installing the chromium snap\n",
            "==> Checking connectivity with the snap store\n",
            "===> System doesn't have a working snapd, skipping\n",
            "Unpacking chromium-browser (1:85.0.4183.83-0ubuntu2.22.04.1) ...\n",
            "Selecting previously unselected package systemd-hwe-hwdb.\n",
            "Preparing to unpack .../systemd-hwe-hwdb_249.11.5_all.deb ...\n",
            "Unpacking systemd-hwe-hwdb (249.11.5) ...\n",
            "Setting up systemd-hwe-hwdb (249.11.5) ...\n",
            "Setting up chromium-browser (1:85.0.4183.83-0ubuntu2.22.04.1) ...\n",
            "update-alternatives: using /usr/bin/chromium-browser to provide /usr/bin/x-www-browser (x-www-browser) in auto mode\n",
            "update-alternatives: using /usr/bin/chromium-browser to provide /usr/bin/gnome-www-browser (gnome-www-browser) in auto mode\n",
            "Processing triggers for libc-bin (2.35-0ubuntu3.4) ...\n",
            "/sbin/ldconfig.real: /usr/local/lib/libtcm_debug.so.1 is not a symbolic link\n",
            "\n",
            "/sbin/ldconfig.real: /usr/local/lib/libur_loader.so.0 is not a symbolic link\n",
            "\n",
            "/sbin/ldconfig.real: /usr/local/lib/libhwloc.so.15 is not a symbolic link\n",
            "\n",
            "/sbin/ldconfig.real: /usr/local/lib/libumf.so.0 is not a symbolic link\n",
            "\n",
            "/sbin/ldconfig.real: /usr/local/lib/libtbbmalloc_proxy.so.2 is not a symbolic link\n",
            "\n",
            "/sbin/ldconfig.real: /usr/local/lib/libtbbbind_2_0.so.3 is not a symbolic link\n",
            "\n",
            "/sbin/ldconfig.real: /usr/local/lib/libtbbbind.so.3 is not a symbolic link\n",
            "\n",
            "/sbin/ldconfig.real: /usr/local/lib/libtbbmalloc.so.2 is not a symbolic link\n",
            "\n",
            "/sbin/ldconfig.real: /usr/local/lib/libtbb.so.12 is not a symbolic link\n",
            "\n",
            "/sbin/ldconfig.real: /usr/local/lib/libtbbbind_2_5.so.3 is not a symbolic link\n",
            "\n",
            "/sbin/ldconfig.real: /usr/local/lib/libtcm.so.1 is not a symbolic link\n",
            "\n",
            "/sbin/ldconfig.real: /usr/local/lib/libur_adapter_level_zero.so.0 is not a symbolic link\n",
            "\n",
            "/sbin/ldconfig.real: /usr/local/lib/libur_adapter_opencl.so.0 is not a symbolic link\n",
            "\n",
            "Processing triggers for man-db (2.10.2-1) ...\n",
            "Processing triggers for dbus (1.12.20-2ubuntu4.1) ...\n",
            "Processing triggers for udev (249.11-0ubuntu3.12) ...\n",
            "Processing triggers for hicolor-icon-theme (0.17-2) ...\n"
          ]
        }
      ],
      "source": [
        "!apt-get install -y chromium-browser"
      ]
    },
    {
      "cell_type": "code",
      "execution_count": null,
      "metadata": {
        "colab": {
          "base_uri": "https://localhost:8080/"
        },
        "id": "jlMFHdGrTwz0",
        "outputId": "4b94b0e6-bc60-44fc-c272-db3088814db4"
      },
      "outputs": [
        {
          "name": "stdout",
          "output_type": "stream",
          "text": [
            "Reading package lists... Done\n",
            "Building dependency tree... Done\n",
            "Reading state information... Done\n",
            "The following NEW packages will be installed:\n",
            "  chromium-chromedriver\n",
            "0 upgraded, 1 newly installed, 0 to remove and 49 not upgraded.\n",
            "Need to get 2,308 B of archives.\n",
            "After this operation, 77.8 kB of additional disk space will be used.\n",
            "Get:1 http://archive.ubuntu.com/ubuntu jammy-updates/universe amd64 chromium-chromedriver amd64 1:85.0.4183.83-0ubuntu2.22.04.1 [2,308 B]\n",
            "Fetched 2,308 B in 0s (14.1 kB/s)\n",
            "Selecting previously unselected package chromium-chromedriver.\n",
            "(Reading database ... 124092 files and directories currently installed.)\n",
            "Preparing to unpack .../chromium-chromedriver_1%3a85.0.4183.83-0ubuntu2.22.04.1_amd64.deb ...\n",
            "Unpacking chromium-chromedriver (1:85.0.4183.83-0ubuntu2.22.04.1) ...\n",
            "Setting up chromium-chromedriver (1:85.0.4183.83-0ubuntu2.22.04.1) ...\n"
          ]
        }
      ],
      "source": [
        "!apt install chromium-chromedriver"
      ]
    },
    {
      "cell_type": "code",
      "execution_count": null,
      "metadata": {
        "id": "8yByJymdUGtA"
      },
      "outputs": [],
      "source": [
        "from selenium import webdriver\n",
        "from selenium.webdriver.chrome.options import Options\n",
        "from selenium.webdriver.chrome.service import Service\n",
        "import pandas as pd\n",
        "from selenium.webdriver.common.by import By"
      ]
    },
    {
      "cell_type": "code",
      "execution_count": null,
      "metadata": {
        "colab": {
          "base_uri": "https://localhost:8080/"
        },
        "id": "wXZ7ys62UX-j",
        "outputId": "8e64db6d-e9a3-4dc7-cf0b-ef11feaa366c"
      },
      "outputs": [
        {
          "name": "stdout",
          "output_type": "stream",
          "text": [
            "/usr/lib/chromium-browser/chromedriver\n"
          ]
        }
      ],
      "source": [
        "!ls /usr/lib/chromium-browser/chromedriver"
      ]
    },
    {
      "cell_type": "code",
      "execution_count": null,
      "metadata": {
        "id": "bZz0Lq3pU0lm"
      },
      "outputs": [],
      "source": [
        "options = Options()\n",
        "options.add_argument('--headless')\n",
        "options.add_argument('--no-sandbox')\n",
        "options.add_argument('--disable-dev-shm-usage')\n",
        "options.add_argument('--disable-gpu')\n",
        " # Fix resource issues on Docker\n",
        "# options.add_argument(\"--remote-debugging-port=9222\")\n",
        "# Đường dẫn đến ChromeDriver\n",
        "chrome_driver_path = '/usr/lib/chromium-browser/chromedriver'\n",
        "\n",
        "# Khởi tạo Service\n",
        "service = Service(chrome_driver_path)\n",
        "\n",
        "# Khởi tạo WebDriver với Service và Options\n",
        "driver = webdriver.Chrome(options=options)\n"
      ]
    },
    {
      "cell_type": "code",
      "execution_count": null,
      "metadata": {
        "id": "SciSq3vwVNTf"
      },
      "outputs": [],
      "source": [
        "TaiWan_veget = pd.DataFrame(columns=['Tên sản phẩm','Sub_category','Giá','URL'])"
      ]
    },
    {
      "cell_type": "code",
      "execution_count": null,
      "metadata": {
        "id": "bRuxJv75VVUo"
      },
      "outputs": [],
      "source": [
        "product_info = {\n",
        "    'Tên sản phẩm': [],\n",
        "    'Sub_category': [],\n",
        "    'Giá': [],\n",
        "    'URL': []\n",
        "}"
      ]
    },
    {
      "cell_type": "code",
      "execution_count": null,
      "metadata": {
        "id": "-W8Pej05VY2o"
      },
      "outputs": [],
      "source": [
        "for i in range(0, 5):\n",
        "  url = \"https://www.etmall.com.tw/c3/41481?page=\"+str(i)\n",
        "  # Khởi tạo driver (sử dụng Chrome trong ví dụ này\n",
        "  driver.get(url)\n",
        "  ban_chay = driver.find_element(By.ID, 'middleSmallProductBlock')\n",
        "  products = ban_chay.find_elements(By.CLASS_NAME, 'n-card__box')\n",
        "  for product in products:\n",
        "    name  = product.find_element(By.CLASS_NAME,'n-name')\n",
        "    price = product.find_element(By.CLASS_NAME,'n-final-price')\n",
        "    url = product.find_element(By.CLASS_NAME,'n-pic').get_attribute('href')\n",
        "    name = name.text\n",
        "    price = price.text\n",
        "    new_row = pd.DataFrame({'Tên sản phẩm': [name], 'Sub_category': 'Hộp rau/các loại', 'Giá':[price], 'URL': [url]})\n",
        "    TaiWan_veget = pd.concat([TaiWan_veget, new_row], ignore_index=True)"
      ]
    },
    {
      "cell_type": "code",
      "execution_count": null,
      "metadata": {
        "id": "z-pgZ_TXfhSN"
      },
      "outputs": [],
      "source": [
        "for i in range(0, 3):\n",
        "  url = \"https://www.etmall.com.tw/c3/41484?page=\"+str(i)\n",
        "  # Khởi tạo driver (sử dụng Chrome trong ví dụ này\n",
        "  driver.get(url)\n",
        "  ban_chay = driver.find_element(By.ID, 'middleSmallProductBlock')\n",
        "  products = ban_chay.find_elements(By.CLASS_NAME, 'n-card__box')\n",
        "  for product in products:\n",
        "    name  = product.find_element(By.CLASS_NAME,'n-name')\n",
        "    price = product.find_element(By.CLASS_NAME,'n-final-price')\n",
        "    url = product.find_element(By.CLASS_NAME,'n-pic').get_attribute('href')\n",
        "    name = name.text\n",
        "    price = price.text\n",
        "    new_row = pd.DataFrame({'Tên sản phẩm': [name], 'Sub_category': 'Khoai lang/Khoai môn', 'Giá':[price], 'URL': [url]})\n",
        "    TaiWan_veget = pd.concat([TaiWan_veget, new_row], ignore_index=True)"
      ]
    },
    {
      "cell_type": "code",
      "execution_count": null,
      "metadata": {
        "id": "H3TTWGgzgO-E"
      },
      "outputs": [],
      "source": [
        "for i in range(0, 3):\n",
        "  url = \"https://www.etmall.com.tw/c3/117893?page=\"+str(i)\n",
        "  # Khởi tạo driver (sử dụng Chrome trong ví dụ này\n",
        "  driver.get(url)\n",
        "  ban_chay = driver.find_element(By.ID, 'middleSmallProductBlock')\n",
        "  products = ban_chay.find_elements(By.CLASS_NAME, 'n-card__box')\n",
        "  for product in products:\n",
        "    name  = product.find_element(By.CLASS_NAME,'n-name')\n",
        "    price = product.find_element(By.CLASS_NAME,'n-final-price')\n",
        "    url = product.find_element(By.CLASS_NAME,'n-pic').get_attribute('href')\n",
        "    name = name.text\n",
        "    price = price.text\n",
        "    new_row = pd.DataFrame({'Tên sản phẩm': [name], 'Sub_category': 'Khoai tây/Khoai mỡ/rễ', 'Giá':[price], 'URL': [url]})\n",
        "    TaiWan_veget = pd.concat([TaiWan_veget, new_row], ignore_index=True)"
      ]
    },
    {
      "cell_type": "code",
      "execution_count": null,
      "metadata": {
        "id": "GuRcHcthg3yf"
      },
      "outputs": [],
      "source": [
        "for i in range(0, 3):\n",
        "  url = \"https://www.etmall.com.tw/c3/27295?page=\"+str(i)\n",
        "  # Khởi tạo driver (sử dụng Chrome trong ví dụ này\n",
        "  driver.get(url)\n",
        "  ban_chay = driver.find_element(By.ID, 'middleSmallProductBlock')\n",
        "  products = ban_chay.find_elements(By.CLASS_NAME, 'n-card__box')\n",
        "  for product in products:\n",
        "    name  = product.find_element(By.CLASS_NAME,'n-name')\n",
        "    price = product.find_element(By.CLASS_NAME,'n-final-price')\n",
        "    url = product.find_element(By.CLASS_NAME,'n-pic').get_attribute('href')\n",
        "    name = name.text\n",
        "    price = price.text\n",
        "    new_row = pd.DataFrame({'Tên sản phẩm': [name], 'Sub_category': 'Ngô/hành tây/Cà rốt', 'Giá':[price], 'URL': [url]})\n",
        "    TaiWan_veget = pd.concat([TaiWan_veget, new_row], ignore_index=True)"
      ]
    },
    {
      "cell_type": "code",
      "execution_count": null,
      "metadata": {
        "id": "Lf9FBIDfhIww"
      },
      "outputs": [],
      "source": [
        "for i in range(0, 3):\n",
        "  url = \"https://www.etmall.com.tw/c3/41485?page=\"+str(i)\n",
        "  # Khởi tạo driver (sử dụng Chrome trong ví dụ này\n",
        "  driver.get(url)\n",
        "  ban_chay = driver.find_element(By.ID, 'middleSmallProductBlock')\n",
        "  products = ban_chay.find_elements(By.CLASS_NAME, 'n-card__box')\n",
        "  for product in products:\n",
        "    name  = product.find_element(By.CLASS_NAME,'n-name')\n",
        "    price = product.find_element(By.CLASS_NAME,'n-final-price')\n",
        "    url = product.find_element(By.CLASS_NAME,'n-pic').get_attribute('href')\n",
        "    name = name.text\n",
        "    price = price.text\n",
        "    new_row = pd.DataFrame({'Tên sản phẩm': [name], 'Sub_category': 'Đậu/Edamame/Bông cải xanh', 'Giá':[price], 'URL': [url]})\n",
        "    TaiWan_veget = pd.concat([TaiWan_veget, new_row], ignore_index=True)"
      ]
    },
    {
      "cell_type": "code",
      "execution_count": null,
      "metadata": {
        "colab": {
          "background_save": true
        },
        "id": "jTKK_mxMh0wY"
      },
      "outputs": [],
      "source": [
        "for i in range(0, 3):\n",
        "  url = \"https://www.etmall.com.tw/c3/176563?page=\"+str(i)\n",
        "  # Khởi tạo driver (sử dụng Chrome trong ví dụ này\n",
        "  driver.get(url)\n",
        "  ban_chay = driver.find_element(By.ID, 'middleSmallProductBlock')\n",
        "  products = ban_chay.find_elements(By.CLASS_NAME, 'n-card__box')\n",
        "  for product in products:\n",
        "    name  = product.find_element(By.CLASS_NAME,'n-name')\n",
        "    price = product.find_element(By.CLASS_NAME,'n-final-price')\n",
        "    url = product.find_element(By.CLASS_NAME,'n-pic').get_attribute('href')\n",
        "    name = name.text\n",
        "    price = price.text\n",
        "    new_row = pd.DataFrame({'Tên sản phẩm': [name], 'Sub_category': 'Rau hữu cơ', 'Giá':[price], 'URL': [url]})\n",
        "    TaiWan_veget = pd.concat([TaiWan_veget, new_row], ignore_index=True)"
      ]
    },
    {
      "cell_type": "code",
      "execution_count": null,
      "metadata": {
        "id": "xQwA3rQ-cN3M"
      },
      "outputs": [],
      "source": [
        "for i in TaiWan_veget.index:\n",
        "    url = TaiWan_veget.at[i, 'URL']\n",
        "\n",
        "    try:\n",
        "        driver.get(url)\n",
        "        # Tìm bảng sản phẩm\n",
        "        try:\n",
        "            bang_thong_tin = driver.find_element(By.CLASS_NAME, 'table--product-detail')\n",
        "\n",
        "            # Nếu bảng tìm thấy\n",
        "            thong_tin_rows = bang_thong_tin.find_elements(By.TAG_NAME, 'tr')\n",
        "            for thong_tin_row in thong_tin_rows:\n",
        "                thong_tin_cells = thong_tin_row.find_elements(By.TAG_NAME, 'td')\n",
        "\n",
        "                # Nếu có ít nhất 2 ô dữ liệu trong mỗi hàng\n",
        "                if len(thong_tin_cells) >= 2:\n",
        "                    key = thong_tin_cells[0].text.strip()\n",
        "                    value = thong_tin_cells[1].text.strip()\n",
        "\n",
        "                    # Nếu key chưa có trong dictionary, thêm mới\n",
        "                    if key not in product_info:\n",
        "                        product_info[key] = []\n",
        "\n",
        "                    # Lưu giá trị vào DataFrame\n",
        "                    TaiWan_veget.at[i, key] = value\n",
        "\n",
        "        except:\n",
        "            # Nếu không tìm thấy bảng thông tin, tiếp tục vòng lặp\n",
        "            continue\n",
        "\n",
        "    except Exception as e:\n",
        "        print(f\"Error occurred for URL {url}: {e}\")\n",
        "        continue"
      ]
    },
    {
      "cell_type": "code",
      "execution_count": null,
      "metadata": {
        "collapsed": true,
        "id": "BML8TdigZA0t"
      },
      "outputs": [],
      "source": [
        "TaiWan_veget"
      ]
    },
    {
      "cell_type": "code",
      "execution_count": null,
      "metadata": {
        "id": "uMo97W6Qnl5y"
      },
      "outputs": [],
      "source": [
        "TaiWan_veget.to_excel('TaiWan_veget.xlsx', index=False)"
      ]
    },
    {
      "cell_type": "code",
      "execution_count": null,
      "metadata": {
        "id": "5HefLKbNWoOZ"
      },
      "outputs": [],
      "source": []
    },
    {
      "cell_type": "code",
      "execution_count": null,
      "metadata": {
        "id": "v1oIIUDFW3sy"
      },
      "outputs": [],
      "source": [
        "\n"
      ]
    },
    {
      "cell_type": "code",
      "execution_count": null,
      "metadata": {
        "id": "FZYrfNajaS_z"
      },
      "outputs": [],
      "source": []
    }
  ],
  "metadata": {
    "colab": {
      "provenance": []
    },
    "kernelspec": {
      "display_name": "Python 3",
      "name": "python3"
    },
    "language_info": {
      "name": "python"
    }
  },
  "nbformat": 4,
  "nbformat_minor": 0
}